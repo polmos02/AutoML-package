{
 "cells": [
  {
   "metadata": {},
   "cell_type": "markdown",
   "source": "# AutoMushroom",
   "id": "2c620e4c0ed9bc74"
  },
  {
   "metadata": {},
   "cell_type": "markdown",
   "source": [
    "AutoMushroom to pakiet, który umożliwia automatyzację procesu klasyfikacji grzybów na jadalne i trujące. Narzędzie wykorzystuje techniki uczenia maszynowego, takie jak Random Forest, Gradient Boosting, Logistic Regression, KNeighbors oraz Voting Classifier, w celu przypisania nowych próbek do jednej z dwóch klas. Model został zoptymalizowany pod kątem minimalizacji błędów klasyfikacji grzybów trujących jako jadalnych, co czyni go odpowiednim do zastosowań w krytycznych procesach decyzyjnych. Pakiet umożliwia także generowanie raportu z wynikami klasyfikacji, w tym miar oceny jakości modelu, takich jak accuracy, precision, recall, F1, ROC AUC oraz specjalnie stworzonego custom core, który balansuje ROC AUC oraz recall.\n",
    "\n",
    "### Grupa docelowa\n",
    " Grupą docelową użytkowników są osoby zajmujące się analizą danych oraz podejmowaniem decyzji w oparciu o klasyfikację, takie jak: \n",
    "\n",
    "1.\t**Biologia i ekologia** – np. badacze profesjonalnie zajmujący się identyfikacją grzybów jadalnych i trujących w celach edukacyjnych.\n",
    "2.\t**Branża żywnościowa** – osoby odpowiedzialne za kontrolę jakości produktów i bezpieczeństwa żywności, zwłaszcza w kontekście zagrożeń związanych z toksynami w grzybach.\n",
    "3.\t**Entuzjaści grzybobrania** – osoby, które chcą wykorzystać narzędzie do celów prywatnych w celu weryfikacji potencjalnych zagrożeń spożycia zebranych grzybów. \n",
    "\n",
    "### Specjalizacja narzędzia\n",
    "Narzędzie specjalizuje się w:  \n",
    "\n",
    "1.\t**Klasyfikacji** – model wykorzystuje zaawansowane techniki klasyfikacji w celu przypisania nowych próbek (danych wejściowych) do dwóch klas: grzyb jadalny (klasa 0) i trujący (klasa 1).\n",
    "2.\t**Analizie predykcyjnej** – umożliwia prognozowanie prawdopodobieństwa, czy nowo dostarczone dane o grzybach wskazują na ich jadalność lub trujący charakter, bazując na historycznych danych.\n",
    "3.\t**Optymalizacji modeli uczenia maszynowego** – narzędzie integruje różne klasyfikatory (np. RandomForest, Gradient Boosting, Logistic Regression, VotingClassifier), dobiera najlepsze hiperparametry za pomocą metody RandomSearch, zapewniając jak najlepszą jakość predykcji. Do wyboru są trzy tryby działania pakietu – szybki, średni oraz wolny. W zależności od wyboru, przeszukiwanych jest więcej hiperparametrów kosztem czasu wytrenowania modelu.\n",
    "4.\t**Ocena jakości predykcji** – narzędzie dostarcza szczegółowe miary oceny modeli (accuracy, precision, recall, F1, ROC AUC), a także specjalnie stworzonego custome_score, który balansuje ROC AUC oraz recall. Umożliwia ocenę skuteczności i ryzyka zastosowania modelu w praktyce.\n",
    "Model uwzględnia kluczowe aspekty bezpieczeństwa, takie jak minimalizacja błędów klasyfikacji grzybów trujących jako jadalnych, co czyni go odpowiednim do zastosowań w krytycznych procesach decyzyjnych.\n",
    "\n",
    "### Przegląd istniejących rozwiązań\n",
    "\n"
   ],
   "id": "d4f453df4ccf0e82"
  },
  {
   "metadata": {},
   "cell_type": "markdown",
   "source": "tbh predict_proba to chyba nie jest analiza predykcyjna tylko predykcja prawdopodobieństwa przynależności do klasy, a analiza predykcyjna to chyba bardziej prognozy przyszłości",
   "id": "57db752b2cdfaea"
  },
  {
   "metadata": {},
   "cell_type": "markdown",
   "source": [
    "# Komponenty techniczne\n",
    "\n",
    "Pakiet został zaimplementowany jako klasa AutoMushroom, która umożliwia automatyzację procesu klasyfikacji grzybów na jadalne i trujące. Klasa ta zawiera następujące metody:\n",
    "\n",
    "1.\t**fit(X, y, mode = 'medium')** – metoda trenująca model na danych wejściowych X i etykietach y. Parametr mode określa tryb działania optymalizacji modeli (domyślnie 'medium'). Do wyboru są trzy tryby: 'fast', 'medium', 'slow', które różnią się liczbą iteracji w RandomSearch, wpływając na jakość optymalizacji modeli, kosztem czasu wytrenowania modelu.\n",
    "\n",
    "2. **predict(X)** – metoda przewidująca etykiety dla danych wejściowych X.\n",
    "\n",
    "3. **predict_proba(X)** – metoda przewidująca prawdopodobieństwa przynależności do klas dla danych wejściowych X.\n",
    "4. **summary_report()** – metoda generująca raport z wynikami optymalizacji modeli, w tym miarami oceny jakości modelu.\n",
    "\n",
    "Publiczne atrybuty klasy AutoMushroom:\n",
    "1. **best_model** – najlepszy model klasyfikacji.\n",
    "2. **best_score** – wartość custom_score dla najlepszego modelu.\n",
    "3. **metrics** – miary oceny jakości modelu."
   ],
   "id": "6ebfeabc1c9a651b"
  },
  {
   "metadata": {},
   "cell_type": "markdown",
   "source": "### Funkcje preprocessingowe ",
   "id": "caf6d649a23b4f7a"
  },
  {
   "metadata": {},
   "cell_type": "markdown",
   "source": [
    "### Automatyzacja wyboru i optymalizacji modeli\n",
    "\n",
    "Optymalizacja modeli zaimplemantowana jest w funkcji `model_selection`, która umożliwia wybór najlepszego modelu klasyfikacji na podstawie przekazanych danych wejściowych. Funkcja ta przeszukuje przestrzeń hiperparametrów różnych klasyfikatorów (RandomForest, Gradient Boosting, Logistic Regression, KNeighbours, VotingClassifier) za pomocą metody RandomSearch (CV = 3), dobierając najlepsze hiperparametry. W zależności od wybranego trybu działania (mode = [\"fast\", \"medium\", \"slow\"]), w RandomSearch wykonywana jest różna liczba iteracji, co wpływa na jakość optymalizacji modeli, kosztem czasu wytrenowania modelu. Funkcja zwraca najlepszy model klasyfikacji oraz wartość custom_score, który balansuje ROC AUC oraz recall.\n",
    "\n",
    "Wybrane do pakietu modele i zakresy ich parametrów są zdefiniowane w pliku `models.json`. Funkcje `load_models` oraz `parse_params` umożliwiają wczytanie modeli z pliku w funkcji `model_selection`.\n",
    "\n",
    "Funkcja `custom_score` oblicza wartość Custom score, który balansuje ROC AUC oraz recall. Funkcja ta jest wykorzystywana w funkcji `model_selection` do oceny jakości modeli klasyfikacji podczas RandomSearch."
   ],
   "id": "6dabdeff0871dbc4"
  },
  {
   "metadata": {},
   "cell_type": "markdown",
   "source": [
    "### Generowanie raportu\n",
    "Funkcja `model_evaluation` umożliwia ocenę jakości modeli klasyfikacji na podstawie przekazanych danych wejściowych. Funkcja ta zwraca miary oceny jakości modelu, takie jak accuracy, precision, recall, F1, ROC AUC."
   ],
   "id": "8dc0fd10c3ddaf91"
  },
  {
   "metadata": {},
   "cell_type": "markdown",
   "source": "#  Przykładowe użycie pakietu",
   "id": "7257f51f14952959"
  },
  {
   "metadata": {
    "ExecuteTime": {
     "end_time": "2025-01-12T23:02:06.162205Z",
     "start_time": "2025-01-12T23:02:04.397960Z"
    }
   },
   "cell_type": "code",
   "source": [
    "from AutoMushroom import AutoMushroom\n",
    "import kagglehub\n",
    "import pandas as pd\n",
    "from sklearn.model_selection import train_test_split"
   ],
   "id": "2d45e120678afda3",
   "outputs": [
    {
     "name": "stderr",
     "output_type": "stream",
     "text": [
      "/Users/klaudiakwoka/anaconda3/envs/AutoML/lib/python3.11/site-packages/tqdm/auto.py:21: TqdmWarning: IProgress not found. Please update jupyter and ipywidgets. See https://ipywidgets.readthedocs.io/en/stable/user_install.html\n",
      "  from .autonotebook import tqdm as notebook_tqdm\n"
     ]
    }
   ],
   "execution_count": 1
  },
  {
   "metadata": {},
   "cell_type": "markdown",
   "source": "### Downloading datasets",
   "id": "79c2864da893d81b"
  },
  {
   "metadata": {
    "ExecuteTime": {
     "end_time": "2025-01-12T23:02:08.618422Z",
     "start_time": "2025-01-12T23:02:07.656492Z"
    }
   },
   "cell_type": "code",
   "source": [
    "path1 = kagglehub.dataset_download(\"prishasawhney/mushroom-dataset\")\n",
    "path2 = kagglehub.dataset_download(\"devzohaib/mushroom-edibility-classification\")\n",
    "path3 = kagglehub.dataset_download(\"uciml/mushroom-classification\")"
   ],
   "id": "e060128aeb67a8fa",
   "outputs": [
    {
     "name": "stdout",
     "output_type": "stream",
     "text": [
      "Warning: Looks like you're using an outdated `kagglehub` version, please consider updating (latest version: 0.3.6)\n",
      "Warning: Looks like you're using an outdated `kagglehub` version, please consider updating (latest version: 0.3.6)\n",
      "Warning: Looks like you're using an outdated `kagglehub` version, please consider updating (latest version: 0.3.6)\n"
     ]
    }
   ],
   "execution_count": 2
  },
  {
   "metadata": {
    "ExecuteTime": {
     "end_time": "2025-01-12T23:02:08.756316Z",
     "start_time": "2025-01-12T23:02:08.628595Z"
    }
   },
   "cell_type": "code",
   "source": [
    "data1 = pd.read_csv(f\"{path1}/mushroom_cleaned.csv\")\n",
    "data2 = pd.read_csv(f\"{path2}/secondary_data.csv\", delimiter=\";\")\n",
    "data3 = pd.read_csv(f\"{path3}/mushrooms.csv\") "
   ],
   "id": "e053eb6ed6575ed5",
   "outputs": [],
   "execution_count": 3
  },
  {
   "metadata": {
    "ExecuteTime": {
     "end_time": "2025-01-12T23:02:08.803517Z",
     "start_time": "2025-01-12T23:02:08.800018Z"
    }
   },
   "cell_type": "code",
   "source": [
    "y1 = data1[\"class\"]\n",
    "X1 = data1.drop(\"class\", axis=1)"
   ],
   "id": "eec28231c7ebb54e",
   "outputs": [],
   "execution_count": 4
  },
  {
   "metadata": {
    "ExecuteTime": {
     "end_time": "2025-01-12T23:02:09.143934Z",
     "start_time": "2025-01-12T23:02:09.128888Z"
    }
   },
   "cell_type": "code",
   "source": [
    "y2 = data2[\"class\"]\n",
    "X2 = data2.drop(\"class\", axis=1)\n",
    "y2 = y2.map({'p': 1, 'e': 0})"
   ],
   "id": "535f3ab41e65e822",
   "outputs": [],
   "execution_count": 5
  },
  {
   "metadata": {
    "ExecuteTime": {
     "end_time": "2025-01-12T23:02:09.601341Z",
     "start_time": "2025-01-12T23:02:09.596386Z"
    }
   },
   "cell_type": "code",
   "source": [
    "y3 = data3[\"class\"]\n",
    "X3 = data3.drop(\"class\", axis=1)\n",
    "y3 = y3.map({'p': 1, 'e': 0})"
   ],
   "id": "b0b99cb7f2115fc2",
   "outputs": [],
   "execution_count": 6
  },
  {
   "metadata": {
    "ExecuteTime": {
     "end_time": "2025-01-12T23:02:10.316953Z",
     "start_time": "2025-01-12T23:02:10.276435Z"
    }
   },
   "cell_type": "code",
   "source": [
    "X_train1, X_test1, y_train1, y_test1 = train_test_split(X1, y1, test_size=0.2, random_state=10)\n",
    "X_train2, X_test2, y_train2, y_test2 = train_test_split(X2, y2, test_size=0.2, random_state=10)\n",
    "X_train3, X_test3, y_train3, y_test3 = train_test_split(X3, y3, test_size=0.2, random_state=10)"
   ],
   "id": "47546c4480c1e9df",
   "outputs": [],
   "execution_count": 7
  },
  {
   "metadata": {},
   "cell_type": "markdown",
   "source": "### Dataset 1",
   "id": "f4d29227d1795494"
  },
  {
   "metadata": {
    "jupyter": {
     "is_executing": true
    },
    "ExecuteTime": {
     "start_time": "2025-01-12T23:07:26.548635Z"
    }
   },
   "cell_type": "code",
   "source": [
    "automl1 = AutoMushroom()\n",
    "automl1.fit(X_train1, y_train1, mode = \"fast\")"
   ],
   "id": "6f2396c229343ffc",
   "outputs": [
    {
     "name": "stderr",
     "output_type": "stream",
     "text": [
      "/Users/klaudiakwoka/anaconda3/envs/AutoML/lib/python3.11/site-packages/sklearn/base.py:486: UserWarning: X has feature names, but SelectFromModel was fitted without feature names\n",
      "  warnings.warn(\n"
     ]
    }
   ],
   "execution_count": null
  },
  {
   "metadata": {
    "ExecuteTime": {
     "end_time": "2025-01-12T23:06:55.370298Z",
     "start_time": "2025-01-12T23:06:55.327488Z"
    }
   },
   "cell_type": "code",
   "source": [
    "print(automl1.best_score)\n",
    "print(automl1.metrics)\n",
    "automl1.best_model"
   ],
   "id": "1d29e3d6c201ddd7",
   "outputs": [
    {
     "ename": "NameError",
     "evalue": "name 'automl1' is not defined",
     "output_type": "error",
     "traceback": [
      "\u001B[0;31m---------------------------------------------------------------------------\u001B[0m",
      "\u001B[0;31mNameError\u001B[0m                                 Traceback (most recent call last)",
      "Cell \u001B[0;32mIn[17], line 1\u001B[0m\n\u001B[0;32m----> 1\u001B[0m automl1\u001B[38;5;241m.\u001B[39mbest_model\n",
      "\u001B[0;31mNameError\u001B[0m: name 'automl1' is not defined"
     ]
    }
   ],
   "execution_count": 17
  },
  {
   "metadata": {
    "ExecuteTime": {
     "end_time": "2025-01-12T21:29:41.474421Z",
     "start_time": "2025-01-12T21:29:40.757237Z"
    }
   },
   "cell_type": "code",
   "source": "automl1.predict(X_test1)",
   "id": "f94d1cbc50a022c7",
   "outputs": [
    {
     "name": "stdout",
     "output_type": "stream",
     "text": [
      "[0 1 0 ... 1 1 0]\n"
     ]
    }
   ],
   "execution_count": 9
  },
  {
   "metadata": {},
   "cell_type": "code",
   "outputs": [],
   "execution_count": null,
   "source": "automl1.summary_report()",
   "id": "9fd16989291036f4"
  },
  {
   "metadata": {},
   "cell_type": "markdown",
   "source": "### Dataset 2",
   "id": "199968e47756c050"
  },
  {
   "metadata": {
    "ExecuteTime": {
     "end_time": "2025-01-12T20:51:14.957793Z",
     "start_time": "2025-01-12T20:51:14.942644Z"
    }
   },
   "cell_type": "code",
   "source": [
    "automl2 = AutoMushroom()\n",
    "automl2.fit(X_train2, y_train2, mode = \"fast\", voting='soft')"
   ],
   "id": "6cf0d017cbee89bd",
   "outputs": [],
   "execution_count": 10
  },
  {
   "metadata": {
    "ExecuteTime": {
     "start_time": "2025-01-12T20:51:15.426465Z"
    }
   },
   "cell_type": "code",
   "source": [
    "print(automl2.best_score)\n",
    "print(automl2.metrics)\n",
    "automl2.best_model"
   ],
   "id": "1bd93054897a5cd9",
   "outputs": [
    {
     "name": "stderr",
     "output_type": "stream",
     "text": [
      "/Users/klaudiakwoka/anaconda3/envs/AutoML/lib/python3.11/site-packages/sklearn/base.py:486: UserWarning: X has feature names, but SelectFromModel was fitted without feature names\n",
      "  warnings.warn(\n"
     ]
    }
   ],
   "execution_count": null
  },
  {
   "metadata": {},
   "cell_type": "code",
   "outputs": [],
   "execution_count": null,
   "source": "automl2.predict(X_test2)",
   "id": "2e89693f1ed101db"
  },
  {
   "metadata": {
    "ExecuteTime": {
     "end_time": "2025-01-12T11:31:41.019537Z",
     "start_time": "2025-01-11T21:09:07.660452Z"
    }
   },
   "cell_type": "code",
   "source": "automl2.summary_report()",
   "id": "d5af5b102773d00e",
   "outputs": [],
   "execution_count": 17
  },
  {
   "metadata": {},
   "cell_type": "markdown",
   "source": "### Dataset 3",
   "id": "4d51c2e0bd3b3099"
  },
  {
   "metadata": {
    "ExecuteTime": {
     "end_time": "2025-01-12T11:31:41.033459Z",
     "start_time": "2025-01-11T21:09:09.109711Z"
    }
   },
   "cell_type": "code",
   "source": [
    "automl3 = AutoMushroom()\n",
    "automl3.fit(X_train3, y_train3, mode = \"fast\")"
   ],
   "id": "89aa62168807fce6",
   "outputs": [],
   "execution_count": 21
  },
  {
   "metadata": {
    "ExecuteTime": {
     "end_time": "2025-01-12T11:31:41.033840Z",
     "start_time": "2025-01-11T21:09:14.327739Z"
    }
   },
   "cell_type": "code",
   "source": [
    "print(automl3.best_score)\n",
    "print(automl3.metrics)\n",
    "automl3.best_model"
   ],
   "id": "ea83f11a6775d87d",
   "outputs": [],
   "execution_count": 23
  },
  {
   "metadata": {
    "ExecuteTime": {
     "end_time": "2025-01-12T11:31:41.033921Z",
     "start_time": "2025-01-11T21:09:14.697915Z"
    }
   },
   "cell_type": "code",
   "source": "automl3.predict(X_test3)",
   "id": "43170d2034e7c829",
   "outputs": [
    {
     "name": "stdout",
     "output_type": "stream",
     "text": [
      "[1 0 0 ... 1 0 0]\n"
     ]
    }
   ],
   "execution_count": 24
  },
  {
   "metadata": {},
   "cell_type": "code",
   "outputs": [],
   "execution_count": null,
   "source": "automl3.summary_report()",
   "id": "3f9aeb5c3fdbeda4"
  }
 ],
 "metadata": {
  "kernelspec": {
   "display_name": "Python 3",
   "language": "python",
   "name": "python3"
  },
  "language_info": {
   "codemirror_mode": {
    "name": "ipython",
    "version": 2
   },
   "file_extension": ".py",
   "mimetype": "text/x-python",
   "name": "python",
   "nbconvert_exporter": "python",
   "pygments_lexer": "ipython2",
   "version": "2.7.6"
  }
 },
 "nbformat": 4,
 "nbformat_minor": 5
}
